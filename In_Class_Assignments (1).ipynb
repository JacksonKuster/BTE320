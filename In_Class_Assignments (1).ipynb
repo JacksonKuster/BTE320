{
  "nbformat": 4,
  "nbformat_minor": 0,
  "metadata": {
    "colab": {
      "provenance": []
    },
    "kernelspec": {
      "name": "python3",
      "display_name": "Python 3"
    },
    "language_info": {
      "name": "python"
    }
  },
  "cells": [
    {
      "cell_type": "code",
      "source": [
        "pi=3.1415926\n",
        "height= int(input(\"Please height length: \"))\n",
        "radius= int(input(\"Please radius length: \"))\n",
        "area=2*pi*radius**2+2*pi*radius*height\n",
        "print(f'The area of cylinder is: {area} sq. ft')"
      ],
      "metadata": {
        "id": "Zqq1msQ3DHxB"
      },
      "execution_count": null,
      "outputs": []
    },
    {
      "cell_type": "code",
      "source": [
        "x=float(input('Please enter a number: '))\n",
        "symbol=input('Please enter a symbol: ')\n",
        "y=float(input('Please enter another number: '))\n",
        "if symbol=='+':\n",
        "  print(x+y)\n",
        "elif symbol=='-':\n",
        "  print(x-y)\n",
        "elif symbol=='*':\n",
        "  print(x*y)\n",
        "elif symbol=='/':\n",
        "  print(x/y)\n",
        "elif symbol=='//':\n",
        "  print(x//y)\n",
        "elif symbol=='**':\n",
        "  print(x**y)\n",
        "elif symbol=='%':\n",
        "  print(x%y)\n",
        "else:\n",
        "  print('N/A')\n",
        "\n",
        "total=(x,symbol,y)\n",
        "print('Total Value:',total)"
      ],
      "metadata": {
        "id": "nlsiuwUYFgNU",
        "colab": {
          "base_uri": "https://localhost:8080/"
        },
        "outputId": "e5a22670-df6d-4aa8-a77c-9964b188310a"
      },
      "execution_count": null,
      "outputs": [
        {
          "output_type": "stream",
          "name": "stdout",
          "text": [
            "Please enter a number: 5\n",
            "Please enter a symbol: *\n",
            "Please enter another number: 6\n",
            "30.0\n",
            "Total Value: (5.0, '*', 6.0)\n"
          ]
        }
      ]
    },
    {
      "cell_type": "markdown",
      "source": [],
      "metadata": {
        "id": "Xs58kt6AK7w9"
      }
    },
    {
      "cell_type": "code",
      "source": [
        "\n",
        "\n",
        "for numberHours in range(1,9):\n",
        "  fee=5+2.5*numberHours\n",
        "  if fee<10:\n",
        "    fee=10.0\n",
        "  elif fee>20:\n",
        "    fee=20.0\n",
        "  print(numberHours,fee)\n",
        "\n"
      ],
      "metadata": {
        "colab": {
          "base_uri": "https://localhost:8080/"
        },
        "id": "Q_AKLn2IYydN",
        "outputId": "80c93877-15af-41d9-be57-7a8757292137"
      },
      "execution_count": null,
      "outputs": [
        {
          "output_type": "stream",
          "name": "stdout",
          "text": [
            "1 10\n",
            "2 10\n",
            "3 12.5\n",
            "4 15.0\n",
            "5 17.5\n",
            "6 20.0\n",
            "7 20\n",
            "8 20\n"
          ]
        }
      ]
    },
    {
      "cell_type": "code",
      "source": [
        "for adMoney in range(0,201,25):\n",
        "  revenue=(20+2*round(adMoney**.5))*10\n",
        "  costs=200+adMoney\n",
        "  profit=revenue-costs\n",
        "  print(adMoney,profit)"
      ],
      "metadata": {
        "colab": {
          "base_uri": "https://localhost:8080/"
        },
        "id": "1PrSdhaxhRNc",
        "outputId": "0b96a037-832f-441c-8d6c-6e666f2a4ea7"
      },
      "execution_count": null,
      "outputs": [
        {
          "output_type": "stream",
          "name": "stdout",
          "text": [
            "0 0\n",
            "25 75\n",
            "50 90\n",
            "75 105\n",
            "100 100\n",
            "125 95\n",
            "150 90\n",
            "175 85\n",
            "200 80\n"
          ]
        }
      ]
    }
  ]
}