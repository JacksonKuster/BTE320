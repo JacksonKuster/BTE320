{
  "nbformat": 4,
  "nbformat_minor": 0,
  "metadata": {
    "colab": {
      "provenance": [],
      "include_colab_link": true
    },
    "kernelspec": {
      "name": "python3",
      "display_name": "Python 3"
    },
    "language_info": {
      "name": "python"
    }
  },
  "cells": [
    {
      "cell_type": "markdown",
      "metadata": {
        "id": "view-in-github",
        "colab_type": "text"
      },
      "source": [
        "<a href=\"https://colab.research.google.com/github/JacksonKuster/BTE320/blob/main/FINAL%20COPY%20OF%3A%20In_Class_Assignments.ipynb\" target=\"_parent\"><img src=\"https://colab.research.google.com/assets/colab-badge.svg\" alt=\"Open In Colab\"/></a>"
      ]
    },
    {
      "cell_type": "code",
      "source": [
        "pi=3.1415926\n",
        "height= int(input(\"Please height length: \"))\n",
        "radius= int(input(\"Please radius length: \"))\n",
        "area=2*pi*radius**2+2*pi*radius*height\n",
        "print(f'The area of cylinder is: {area} sq. ft')"
      ],
      "metadata": {
        "id": "Zqq1msQ3DHxB",
        "colab": {
          "base_uri": "https://localhost:8080/"
        },
        "outputId": "dcfb412e-812f-4b45-fc93-db474930c331"
      },
      "execution_count": null,
      "outputs": [
        {
          "output_type": "stream",
          "name": "stdout",
          "text": [
            "Please height length: 60\n",
            "Please radius length: 60\n",
            "The area of cylinder is: 45238.93344 sq. ft\n"
          ]
        }
      ]
    },
    {
      "cell_type": "code",
      "source": [
        "x=float(input('Please enter a number: '))\n",
        "symbol=input('Please enter a symbol: ')\n",
        "y=float(input('Please enter another number: '))\n",
        "if symbol=='+':\n",
        "  print(x+y)\n",
        "elif symbol=='-':\n",
        "  print(x-y)\n",
        "elif symbol=='*':\n",
        "  print(x*y)\n",
        "elif symbol=='/':\n",
        "  print(x/y)\n",
        "elif symbol=='//':\n",
        "  print(x//y)\n",
        "elif symbol=='**':\n",
        "  print(x**y)\n",
        "elif symbol=='%':\n",
        "  print(x%y)\n",
        "else:\n",
        "  print('N/A')\n",
        "\n",
        "total=(x,symbol,y)\n",
        "print('Total Value:',total)"
      ],
      "metadata": {
        "id": "nlsiuwUYFgNU",
        "colab": {
          "base_uri": "https://localhost:8080/"
        },
        "outputId": "e5a22670-df6d-4aa8-a77c-9964b188310a"
      },
      "execution_count": null,
      "outputs": [
        {
          "output_type": "stream",
          "name": "stdout",
          "text": [
            "Please enter a number: 5\n",
            "Please enter a symbol: *\n",
            "Please enter another number: 6\n",
            "30.0\n",
            "Total Value: (5.0, '*', 6.0)\n"
          ]
        }
      ]
    },
    {
      "cell_type": "markdown",
      "source": [],
      "metadata": {
        "id": "Xs58kt6AK7w9"
      }
    },
    {
      "cell_type": "code",
      "source": [
        "\n",
        "\n",
        "for numberHours in range(1,9):\n",
        "  fee=5+2.5*numberHours\n",
        "  if fee<10:\n",
        "    fee=10.0\n",
        "  elif fee>20:\n",
        "    fee=20.0\n",
        "  print(numberHours,fee)\n",
        "\n"
      ],
      "metadata": {
        "colab": {
          "base_uri": "https://localhost:8080/"
        },
        "id": "Q_AKLn2IYydN",
        "outputId": "80c93877-15af-41d9-be57-7a8757292137"
      },
      "execution_count": null,
      "outputs": [
        {
          "output_type": "stream",
          "name": "stdout",
          "text": [
            "1 10\n",
            "2 10\n",
            "3 12.5\n",
            "4 15.0\n",
            "5 17.5\n",
            "6 20.0\n",
            "7 20\n",
            "8 20\n"
          ]
        }
      ]
    },
    {
      "cell_type": "code",
      "source": [
        "for adMoney in range(0,201,25):\n",
        "  revenue=(20+2*round(adMoney**.5))*10\n",
        "  costs=200+adMoney\n",
        "  profit=revenue-costs\n",
        "  print(adMoney,profit)"
      ],
      "metadata": {
        "colab": {
          "base_uri": "https://localhost:8080/"
        },
        "id": "1PrSdhaxhRNc",
        "outputId": "0b96a037-832f-441c-8d6c-6e666f2a4ea7"
      },
      "execution_count": null,
      "outputs": [
        {
          "output_type": "stream",
          "name": "stdout",
          "text": [
            "0 0\n",
            "25 75\n",
            "50 90\n",
            "75 105\n",
            "100 100\n",
            "125 95\n",
            "150 90\n",
            "175 85\n",
            "200 80\n"
          ]
        }
      ]
    },
    {
      "cell_type": "code",
      "source": [
        "import random\n",
        "\n",
        "while True:\n",
        "  yn=input(\"Would you like to play: y/n: \")\n",
        "  if yn==\"y\":\n",
        "    play=input(\"Enter your move: \")\n",
        "    computer=random.choice([\"rock\",\"paper\",\"scissors\"])\n",
        "    print('Player chose:',play,'Computer chose:',computer)\n",
        "    if play==computer:\n",
        "      print(\"It's a tie! You both picked \",play)\n",
        "    elif play==\"rock\" and computer==\"scissors\" or play==\"paper\" and computer==\"rock\" or play==\"scissors\" and computer==\"paper\":\n",
        "      print(\"You win!\",play,\"Beats\",computer)\n",
        "    else:\n",
        "      print(computer,\"beats\",play,\"YOU LOSE :(\")\n",
        "      continue\n",
        "  else:\n",
        "    print(\"Thanks for playing!\")\n",
        "    break"
      ],
      "metadata": {
        "id": "jQdChX-5MeIL"
      },
      "execution_count": null,
      "outputs": []
    },
    {
      "cell_type": "code",
      "source": [
        "lst=[]\n",
        "num=float(input(\"Give a number: \"))\n",
        "while num != 0.0:\n",
        "  lst.append(num)\n",
        "  num=float(input(\"Give a number: \"))\n",
        "lst.sort(reverse=True)\n",
        "print(lst)\n"
      ],
      "metadata": {
        "colab": {
          "base_uri": "https://localhost:8080/"
        },
        "id": "Tx2JpgT8SsPm",
        "outputId": "0a56b0ea-3107-4e00-d23d-44b08a2c5244"
      },
      "execution_count": null,
      "outputs": [
        {
          "output_type": "stream",
          "name": "stdout",
          "text": [
            "Give a number: 6\n",
            "Give a number: 7.8\n",
            "Give a number: 0\n",
            "[7.8, 6.0]\n"
          ]
        }
      ]
    },
    {
      "cell_type": "markdown",
      "source": [
        "or"
      ],
      "metadata": {
        "id": "dJExe30k2wOH"
      }
    },
    {
      "cell_type": "code",
      "source": [
        "x = []\n",
        "while True:\n",
        "  num = float(input('Enter a number: '))\n",
        "  if num == 0.0:\n",
        "    break\n",
        "  x.append(num) #puts number in the list\n",
        "x.sort(reverse=True)\n",
        "print(x)"
      ],
      "metadata": {
        "colab": {
          "base_uri": "https://localhost:8080/"
        },
        "id": "2tki9Lus2wz_",
        "outputId": "8e553897-8e88-4f8d-e8b9-b2691821b7fd"
      },
      "execution_count": null,
      "outputs": [
        {
          "output_type": "stream",
          "name": "stdout",
          "text": [
            "Enter a number: 7\n",
            "Enter a number: 8\n",
            "Enter a number: 0\n",
            "[8.0, 7.0]\n"
          ]
        }
      ]
    },
    {
      "cell_type": "code",
      "source": [
        "L1=[1,2,3,4]\n",
        "L2=[1,2,5,6]\n",
        "\n",
        "for item in L1[:]:\n",
        "  if item in L2:\n",
        "    L1.remove(item)\n",
        "\n",
        "L1"
      ],
      "metadata": {
        "colab": {
          "base_uri": "https://localhost:8080/"
        },
        "id": "cZRHMffOT8_8",
        "outputId": "f5aa8583-fef0-4f23-fdef-8cf8bb7d394c"
      },
      "execution_count": null,
      "outputs": [
        {
          "output_type": "execute_result",
          "data": {
            "text/plain": [
              "[3, 4]"
            ]
          },
          "metadata": {},
          "execution_count": 46
        }
      ]
    },
    {
      "cell_type": "markdown",
      "source": [
        "Months"
      ],
      "metadata": {
        "id": "HasXLkM52Lil"
      }
    },
    {
      "cell_type": "code",
      "source": [
        "months = {}\n",
        "names = [\"Jan\", \"Feb\", \"Mar\", \"Apr\",\"May\", \"Jun\", \"Jul\", \"Aug\", \"Sep\", \"Oct\", \"Nov\", \"Dec\"]\n",
        "numbers = [1,2,3,4,5,6,7,8,9,10,11,12]\n",
        "\n",
        "for num in numbers:\n",
        "  months[num] = names[num-1]\n",
        "\n",
        "print(months)\n"
      ],
      "metadata": {
        "colab": {
          "base_uri": "https://localhost:8080/"
        },
        "id": "TOquPr1cyoyM",
        "outputId": "12dfeb31-7d8b-49e5-815c-2af3bab1120b"
      },
      "execution_count": null,
      "outputs": [
        {
          "output_type": "stream",
          "name": "stdout",
          "text": [
            "{1: 'Jan', 2: 'Feb', 3: 'Mar', 4: 'Apr', 5: 'May', 6: 'Jun', 7: 'Jul', 8: 'Aug', 9: 'Sep', 10: 'Oct', 11: 'Nov', 12: 'Dec'}\n"
          ]
        }
      ]
    },
    {
      "cell_type": "code",
      "source": [
        "counts={}\n",
        "\n",
        "while len(counts)<5:\n",
        "  given=input(\"Give a string: \")\n",
        "  if given not in counts:\n",
        "    counts[given]=1\n",
        "  else:\n",
        "    counts[given]+=1\n",
        "print(counts)\n"
      ],
      "metadata": {
        "id": "M2D_eTlf24O7",
        "colab": {
          "base_uri": "https://localhost:8080/"
        },
        "outputId": "d7f7d72a-8900-43f7-8305-eef758509f4e"
      },
      "execution_count": null,
      "outputs": [
        {
          "output_type": "stream",
          "name": "stdout",
          "text": [
            "Give a string: a\n",
            "Give a string: a\n",
            "Give a string: a\n",
            "Give a string: a\n",
            "Give a string: a\n",
            "Give a string: b\n",
            "Give a string: c\n",
            "Give a string: d\n",
            "Give a string: e\n",
            "{'a': 5, 'b': 1, 'c': 1, 'd': 1, 'e': 1}\n"
          ]
        }
      ]
    },
    {
      "cell_type": "code",
      "source": [
        "#STRESS TEST EDITION\n",
        "\n",
        "def calcFee(hours):\n",
        "  fee=5+(2.5*hours)\n",
        "  if fee<10.0:\n",
        "    fee=10.0\n",
        "  elif fee>=20.0:\n",
        "    fee=20.0\n",
        "  print(\"Fee: \",fee)\n",
        "\n",
        "def main():\n",
        "  try:\n",
        "    hours=int(input(\"Please enter hours: \"))\n",
        "    print(\"Number of hours parked\", hours)\n",
        "    calcFee(hours)\n",
        "  except ValueError:\n",
        "    print(\"ERROR :(, Please enter an intager\")\n",
        "main()\n",
        "\n"
      ],
      "metadata": {
        "colab": {
          "base_uri": "https://localhost:8080/"
        },
        "id": "hyEc8g4PmdLB",
        "outputId": "c85e71bd-4c5f-4bc1-8620-d426ff127f8f"
      },
      "execution_count": null,
      "outputs": [
        {
          "output_type": "stream",
          "name": "stdout",
          "text": [
            "Please enter hours: 100\n",
            "Number of hours parked 100\n",
            "Fee:  20.0\n"
          ]
        }
      ]
    },
    {
      "cell_type": "code",
      "source": [
        "#from problem set, expection errors\n",
        "def getValues(n):\n",
        "  L=[]\n",
        "  for i in range(n):\n",
        "    try:\n",
        "      weight=float(input(\"Enter a number: \"))\n",
        "      L.append(weight)\n",
        "    except ValueError:\n",
        "      print(\"ERROR :(, Please enter only an intager or decimal\")\n",
        "  return L\n",
        "def calcAverage(alist):\n",
        "  try:\n",
        "    print(f'The average weight is {sum(alist[2:])/len(alist[2:])} lbs.')\n",
        "  except ZeroDivisionError:\n",
        "    print(\"ERROR: Total of weights = 0\")\n",
        "\n",
        "if __name__ == '__main__':\n",
        "  try:\n",
        "    n=int(input(\"Enter size of list: \"))\n",
        "    alist=getValues(n)\n",
        "    calcAverage(alist)\n",
        "  except ValueError:\n",
        "    print(\"ERROR :(, Please enter only intagers\")\n"
      ],
      "metadata": {
        "colab": {
          "base_uri": "https://localhost:8080/"
        },
        "id": "ulYuFYK2WQG-",
        "outputId": "dd3129a5-6c5a-4500-d4d5-44aeaad428ca"
      },
      "execution_count": null,
      "outputs": [
        {
          "output_type": "stream",
          "name": "stdout",
          "text": [
            "Enter size of list: 5\n",
            "Enter a number: r\n",
            "ERROR :(, Please enter only an intager or decimal\n",
            "Enter a number: r\n",
            "ERROR :(, Please enter only an intager or decimal\n",
            "Enter a number: r\n",
            "ERROR :(, Please enter only an intager or decimal\n",
            "Enter a number: r\n",
            "ERROR :(, Please enter only an intager or decimal\n",
            "Enter a number: r\n",
            "ERROR :(, Please enter only an intager or decimal\n",
            "ERROR: Total of weights = 0\n"
          ]
        }
      ]
    },
    {
      "cell_type": "code",
      "source": [
        "hours=int(input(\"Please enter hours: \"))\n",
        "fee=5+(2.5*hours)\n",
        "print(\"Number of hours parked: \",hours)\n",
        "print(\"Parking fee: $\",fee)\n"
      ],
      "metadata": {
        "colab": {
          "base_uri": "https://localhost:8080/"
        },
        "id": "CYk_4PzsnwOM",
        "outputId": "1b37563c-80e4-4554-df80-97e8c8ab4f3b"
      },
      "execution_count": null,
      "outputs": [
        {
          "output_type": "stream",
          "name": "stdout",
          "text": [
            "Please enter hours: 5\n",
            "Number of hours parked:  5\n",
            "Parking fee: $ 17.5\n"
          ]
        }
      ]
    },
    {
      "cell_type": "markdown",
      "source": [],
      "metadata": {
        "id": "LQJt5gG0g1iG"
      }
    },
    {
      "cell_type": "code",
      "source": [
        "def reverse(s):\n",
        "  if len(s) <=1:\n",
        "    return s\n",
        "  else:\n",
        "    return s[-1]+reverse(s[:-1])\n",
        "\n",
        "reverse(\"Hello\")\n"
      ],
      "metadata": {
        "colab": {
          "base_uri": "https://localhost:8080/",
          "height": 35
        },
        "id": "NKm4YC1COqx8",
        "outputId": "0d806636-2ab1-4817-91bf-24aa031f6af2"
      },
      "execution_count": null,
      "outputs": [
        {
          "output_type": "execute_result",
          "data": {
            "text/plain": [
              "'olleH'"
            ],
            "application/vnd.google.colaboratory.intrinsic+json": {
              "type": "string"
            }
          },
          "metadata": {},
          "execution_count": 6
        }
      ]
    },
    {
      "cell_type": "code",
      "source": [
        "#NORMAL EDITION\n",
        "def calcFee(hours):\n",
        "  fee=5+(2.5*hours)\n",
        "  if fee<10.0:\n",
        "    fee=10.0\n",
        "  elif fee>=20.0:\n",
        "    fee=20.0\n",
        "  print(\"Fee: \",fee)\n",
        "\n",
        "def main():\n",
        "  hours=int(input(\"Please enter hours: \"))\n",
        "  print(\"Number of hours parked\", hours)\n",
        "  calcFee(hours)\n",
        "main()"
      ],
      "metadata": {
        "id": "n_wmgybMR9QZ"
      },
      "execution_count": null,
      "outputs": []
    },
    {
      "cell_type": "code",
      "source": [
        "class Greeting:\n",
        "  def __init__(self,first,last):\n",
        "    self.first=first\n",
        "    self.last=last\n",
        "  def display (self,formal=False):\n",
        "    if formal:\n",
        "      print(\"Hello\", self.first, self.last)\n",
        "    else:\n",
        "      print(\"Hi\", self.first)\n",
        "  def __str__(self):\n",
        "    return f\"{self.first}, {self.last}\"\n",
        "  def __repr__(self):\n",
        "    return f\"{self.first}, {self.last}\"\n",
        "\n",
        "Greeting=Greeting(\"Donald\",\"Becker\")\n",
        "print(Greeting)"
      ],
      "metadata": {
        "id": "EcHAUL90YFfv",
        "colab": {
          "base_uri": "https://localhost:8080/"
        },
        "outputId": "6cc71c68-35fb-4fc2-d193-734177297948"
      },
      "execution_count": null,
      "outputs": [
        {
          "output_type": "stream",
          "name": "stdout",
          "text": [
            "Donald, Becker\n"
          ]
        }
      ]
    },
    {
      "cell_type": "code",
      "source": [
        "Greeting.display()\n",
        "Greeting.display(formal=True)"
      ],
      "metadata": {
        "id": "x5fAlZw5qJZH"
      },
      "execution_count": null,
      "outputs": []
    },
    {
      "cell_type": "code",
      "source": [
        "class Student:\n",
        "  def __init__(self,name,number,cources):\n",
        "    self.name=name\n",
        "    self.number=number\n",
        "    self.__cources=[]\n",
        "  def enroll(self,course):\n",
        "    if course in self.__cources:\n",
        "      print(\"You have already enrolled in \",course)\n",
        "    else:\n",
        "      self.__cources.append(course)\n",
        "  def get_cources(self):\n",
        "    return self.__cources\n",
        "  def get_number(self,number): # getter method for number attribute\n",
        "    return self.__number\n",
        "  def set_number(self,number): # setter method for number attribute\n",
        "    newnumber=self.__number\n",
        "\n",
        "s1=Student(\"James\",666, \"BTE320\")\n",
        "s1.name,s1.number"
      ],
      "metadata": {
        "colab": {
          "base_uri": "https://localhost:8080/"
        },
        "id": "F4X5AJy340KP",
        "outputId": "650c5774-c976-4263-f859-9ec373a4bb8a"
      },
      "execution_count": null,
      "outputs": [
        {
          "output_type": "execute_result",
          "data": {
            "text/plain": [
              "('James', 666)"
            ]
          },
          "metadata": {},
          "execution_count": 31
        }
      ]
    },
    {
      "cell_type": "code",
      "source": [
        "s1.enroll(\"BTE320\")\n",
        "s1.enroll(\"BTE400\")\n",
        "s1.enroll(\"BTE320\")\n",
        "s1.get_cources()"
      ],
      "metadata": {
        "colab": {
          "base_uri": "https://localhost:8080/"
        },
        "id": "yBOPW9EH54K0",
        "outputId": "a0e84029-95aa-4e24-8b9f-446654c5549c"
      },
      "execution_count": null,
      "outputs": [
        {
          "output_type": "stream",
          "name": "stdout",
          "text": [
            "You have already enrolled in  BTE320\n"
          ]
        },
        {
          "output_type": "execute_result",
          "data": {
            "text/plain": [
              "['BTE320', 'BTE400']"
            ]
          },
          "metadata": {},
          "execution_count": 19
        }
      ]
    },
    {
      "cell_type": "code",
      "source": [
        "s1.get_cources()"
      ],
      "metadata": {
        "colab": {
          "base_uri": "https://localhost:8080/"
        },
        "id": "0eexcO0GYFGA",
        "outputId": "4aa269a8-e95d-4c25-ecb7-6d482bdaf068"
      },
      "execution_count": null,
      "outputs": [
        {
          "output_type": "execute_result",
          "data": {
            "text/plain": [
              "['BTE320', 'BTE400']"
            ]
          },
          "metadata": {},
          "execution_count": 23
        }
      ]
    },
    {
      "cell_type": "code",
      "source": [
        "import math\n",
        "class Point:\n",
        "  def __init__(self,x,y):\n",
        "    self.x=x\n",
        "    self.y=y\n",
        "  def distence(self,other):\n",
        "    return math.sqrt((self.x-other.x)**2+(self.y-other.y)**2)\n",
        "\n",
        "\n",
        "x=Point(0,0)\n",
        "y=Point(3,4)\n",
        "Point.distence(x,y)"
      ],
      "metadata": {
        "colab": {
          "base_uri": "https://localhost:8080/"
        },
        "id": "0_fCTMHucIfy",
        "outputId": "afe7768d-ee3e-4a79-d87c-daf90c55f695"
      },
      "execution_count": null,
      "outputs": [
        {
          "output_type": "execute_result",
          "data": {
            "text/plain": [
              "5.0"
            ]
          },
          "metadata": {},
          "execution_count": 3
        }
      ]
    },
    {
      "cell_type": "code",
      "source": [
        "import math\n",
        "class Rectange:\n",
        "  def __init__(self):\n",
        "    self.c1=Point(0,0)\n",
        "    self.c2=Point(0,2)\n",
        "    self.c3=Point(2,0)\n",
        "    self.c4=Point(2,2)\n",
        "\n",
        "  def width(self):\n",
        "    return self.c1.distence(self.c2)\n",
        "  def length(self):\n",
        "    return self.c1.distence(self.c3)\n",
        "  def area(self):\n",
        "    return f'Area: {self.width()*self.length()} sq. ft.'\n",
        "\n",
        "\n",
        "square=Rectange()\n",
        "square.area()"
      ],
      "metadata": {
        "colab": {
          "base_uri": "https://localhost:8080/",
          "height": 35
        },
        "id": "Dl1V4zfoe-ID",
        "outputId": "7533a048-e261-4224-e33c-ce51031fb9c1"
      },
      "execution_count": null,
      "outputs": [
        {
          "output_type": "execute_result",
          "data": {
            "text/plain": [
              "'Area: 4.0 sq. ft.'"
            ],
            "application/vnd.google.colaboratory.intrinsic+json": {
              "type": "string"
            }
          },
          "metadata": {},
          "execution_count": 5
        }
      ]
    },
    {
      "cell_type": "code",
      "source": [
        "class Car:\n",
        "  def __init__(self,make,year):\n",
        "    self.__make=make\n",
        "    self.__year=year\n",
        "  def get_make(self):\n",
        "    return self.__make\n",
        "  def set_make(self):\n",
        "    self.__make=newMake\n",
        "\n",
        "class SUV(Car):\n",
        "  def activateAWD(self):\n",
        "    print('AWD activiated. ')\n"
      ],
      "metadata": {
        "id": "eZMe9m80xmsT"
      },
      "execution_count": null,
      "outputs": []
    },
    {
      "cell_type": "code",
      "source": [
        "c=Car('Ford',2024)\n",
        "s=SUV('GMC',2020)"
      ],
      "metadata": {
        "id": "x27s-oAfyndB"
      },
      "execution_count": null,
      "outputs": []
    },
    {
      "cell_type": "code",
      "source": [
        "c.get_make()"
      ],
      "metadata": {
        "colab": {
          "base_uri": "https://localhost:8080/",
          "height": 35
        },
        "id": "prUmYFv9zMyM",
        "outputId": "79a8ad3c-dc7f-425b-96ad-11d77d2dfbbf"
      },
      "execution_count": null,
      "outputs": [
        {
          "output_type": "execute_result",
          "data": {
            "text/plain": [
              "'Ford'"
            ],
            "application/vnd.google.colaboratory.intrinsic+json": {
              "type": "string"
            }
          },
          "metadata": {},
          "execution_count": 32
        }
      ]
    }
  ]
}